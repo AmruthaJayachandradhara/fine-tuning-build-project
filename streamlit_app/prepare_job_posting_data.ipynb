{
 "cells": [
  {
   "cell_type": "code",
   "execution_count": 1,
   "metadata": {},
   "outputs": [],
   "source": [
    "import os\n",
    "import sys"
   ]
  },
  {
   "cell_type": "code",
   "execution_count": 2,
   "metadata": {},
   "outputs": [],
   "source": [
    "import pandas as pd\n",
    "import numpy as np"
   ]
  },
  {
   "cell_type": "code",
   "execution_count": 3,
   "metadata": {},
   "outputs": [],
   "source": [
    "build_project_path = os.environ['BUILD_PROJECT_PATH']\n",
    "streamlit_data_path = os.path.join(build_project_path, 'streamlit_app', 'data')"
   ]
  },
  {
   "cell_type": "code",
   "execution_count": 4,
   "metadata": {},
   "outputs": [],
   "source": [
    "job_postings_df = pd.read_csv(os.path.join(streamlit_data_path, 'job_postings.csv'))"
   ]
  },
  {
   "cell_type": "code",
   "execution_count": 5,
   "metadata": {},
   "outputs": [],
   "source": [
    "import ast\n",
    "\n",
    "def extract_first_url(url_str):\n",
    "    try:\n",
    "        url_list = ast.literal_eval(url_str)\n",
    "        return url_list[0] if url_list else None\n",
    "    except:\n",
    "        return None\n",
    "\n",
    "# Assuming your DataFrame is named df\n",
    "job_postings_df['URL'] = job_postings_df['URL'].apply(extract_first_url)"
   ]
  },
  {
   "cell_type": "code",
   "execution_count": 6,
   "metadata": {},
   "outputs": [],
   "source": [
    "job_postings_df['POSTED'] = pd.to_datetime(job_postings_df['POSTED'], errors='coerce')"
   ]
  },
  {
   "cell_type": "code",
   "execution_count": 7,
   "metadata": {},
   "outputs": [],
   "source": [
    "job_postings_df.rename({\n",
    "    'COMPANY_NAME': 'company',\n",
    "    'TITLE_RAW': 'job_posting_title',\n",
    "    'ONET_2019': 'onet_code',\n",
    "    'ONET_2019_NAME': 'onet_name',\n",
    "    'POSTED': 'date_posted',\n",
    "    'URL': 'url'\n",
    "}, inplace=True, axis=1)"
   ]
  },
  {
   "cell_type": "code",
   "execution_count": 8,
   "metadata": {},
   "outputs": [
    {
     "data": {
      "text/html": [
       "<div>\n",
       "<style scoped>\n",
       "    .dataframe tbody tr th:only-of-type {\n",
       "        vertical-align: middle;\n",
       "    }\n",
       "\n",
       "    .dataframe tbody tr th {\n",
       "        vertical-align: top;\n",
       "    }\n",
       "\n",
       "    .dataframe thead th {\n",
       "        text-align: right;\n",
       "    }\n",
       "</style>\n",
       "<table border=\"1\" class=\"dataframe\">\n",
       "  <thead>\n",
       "    <tr style=\"text-align: right;\">\n",
       "      <th></th>\n",
       "      <th>job_posting_title</th>\n",
       "      <th>company</th>\n",
       "      <th>onet_code</th>\n",
       "      <th>onet_name</th>\n",
       "      <th>date_posted</th>\n",
       "      <th>url</th>\n",
       "    </tr>\n",
       "  </thead>\n",
       "  <tbody>\n",
       "    <tr>\n",
       "      <th>0</th>\n",
       "      <td>Travel Echo Technologist - $2,446 per week</td>\n",
       "      <td>Magnet Medical</td>\n",
       "      <td>29-2031.00</td>\n",
       "      <td>Cardiovascular Technologists and Technicians</td>\n",
       "      <td>2025-01-28</td>\n",
       "      <td>https://www.corpuschristirecruiter.com/other-j...</td>\n",
       "    </tr>\n",
       "    <tr>\n",
       "      <th>1</th>\n",
       "      <td>HR Generalist</td>\n",
       "      <td>Robert Half</td>\n",
       "      <td>13-1071.00</td>\n",
       "      <td>Human Resources Specialists</td>\n",
       "      <td>2025-01-28</td>\n",
       "      <td>https://dejobs.org/allentown-pa/hr-generalist/...</td>\n",
       "    </tr>\n",
       "    <tr>\n",
       "      <th>2</th>\n",
       "      <td>Part-time Office assistant</td>\n",
       "      <td>Unclassified</td>\n",
       "      <td>43-6014.00</td>\n",
       "      <td>Secretaries and Administrative Assistants, Exc...</td>\n",
       "      <td>2025-01-28</td>\n",
       "      <td>https://kpr.craigslist.org/ofc/7822123604.html</td>\n",
       "    </tr>\n",
       "    <tr>\n",
       "      <th>3</th>\n",
       "      <td>Registered Nurse (RN) - Per Diem</td>\n",
       "      <td>Unclassified</td>\n",
       "      <td>29-1141.00</td>\n",
       "      <td>Registered Nurses</td>\n",
       "      <td>2025-01-28</td>\n",
       "      <td>https://www.indeed.com/m/viewjob?jk=120fe2d7ef...</td>\n",
       "    </tr>\n",
       "    <tr>\n",
       "      <th>4</th>\n",
       "      <td>Class A Truck Driver</td>\n",
       "      <td>Unclassified</td>\n",
       "      <td>53-3032.00</td>\n",
       "      <td>Heavy and Tractor-Trailer Truck Drivers</td>\n",
       "      <td>2025-01-28</td>\n",
       "      <td>https://trilliumstaffing.com/jobs/job/767908-c...</td>\n",
       "    </tr>\n",
       "    <tr>\n",
       "      <th>...</th>\n",
       "      <td>...</td>\n",
       "      <td>...</td>\n",
       "      <td>...</td>\n",
       "      <td>...</td>\n",
       "      <td>...</td>\n",
       "      <td>...</td>\n",
       "    </tr>\n",
       "    <tr>\n",
       "      <th>671989</th>\n",
       "      <td>Leasing Consultant - Grove City, OH</td>\n",
       "      <td>Irt Management</td>\n",
       "      <td>41-9022.00</td>\n",
       "      <td>Real Estate Sales Agents</td>\n",
       "      <td>2025-01-31</td>\n",
       "      <td>https://www.indeed.com/m/viewjob?jk=727992da7a...</td>\n",
       "    </tr>\n",
       "    <tr>\n",
       "      <th>671990</th>\n",
       "      <td>RN Case Manager</td>\n",
       "      <td>United Staffing Solutions</td>\n",
       "      <td>29-1141.00</td>\n",
       "      <td>Registered Nurses</td>\n",
       "      <td>2025-01-31</td>\n",
       "      <td>https://www.simplyhired.com/job/Cwtl2k-7dzhjkS...</td>\n",
       "    </tr>\n",
       "    <tr>\n",
       "      <th>671991</th>\n",
       "      <td>Installation Technician</td>\n",
       "      <td>Spectrum</td>\n",
       "      <td>49-2011.00</td>\n",
       "      <td>Computer, Automated Teller, and Office Machine...</td>\n",
       "      <td>2025-01-31</td>\n",
       "      <td>https://www.jobserve.com/us/en/extjob/installa...</td>\n",
       "    </tr>\n",
       "    <tr>\n",
       "      <th>671992</th>\n",
       "      <td>Delivery Driver</td>\n",
       "      <td>Papa John's</td>\n",
       "      <td>53-3031.00</td>\n",
       "      <td>Driver/Sales Workers</td>\n",
       "      <td>2025-01-31</td>\n",
       "      <td>https://jobs.papajohns.com/job/18994/delivery-...</td>\n",
       "    </tr>\n",
       "    <tr>\n",
       "      <th>671993</th>\n",
       "      <td>Sales Stylist</td>\n",
       "      <td>Levi Strauss</td>\n",
       "      <td>41-2031.00</td>\n",
       "      <td>Retail Salespersons</td>\n",
       "      <td>2025-01-31</td>\n",
       "      <td>https://levistraussandco.wd5.myworkdayjobs.com...</td>\n",
       "    </tr>\n",
       "  </tbody>\n",
       "</table>\n",
       "<p>671994 rows × 6 columns</p>\n",
       "</div>"
      ],
      "text/plain": [
       "                                 job_posting_title                    company  \\\n",
       "0       Travel Echo Technologist - $2,446 per week             Magnet Medical   \n",
       "1                                    HR Generalist                Robert Half   \n",
       "2                       Part-time Office assistant               Unclassified   \n",
       "3                 Registered Nurse (RN) - Per Diem               Unclassified   \n",
       "4                             Class A Truck Driver               Unclassified   \n",
       "...                                            ...                        ...   \n",
       "671989         Leasing Consultant - Grove City, OH             Irt Management   \n",
       "671990                             RN Case Manager  United Staffing Solutions   \n",
       "671991                     Installation Technician                   Spectrum   \n",
       "671992                             Delivery Driver                Papa John's   \n",
       "671993                               Sales Stylist               Levi Strauss   \n",
       "\n",
       "         onet_code                                          onet_name  \\\n",
       "0       29-2031.00       Cardiovascular Technologists and Technicians   \n",
       "1       13-1071.00                        Human Resources Specialists   \n",
       "2       43-6014.00  Secretaries and Administrative Assistants, Exc...   \n",
       "3       29-1141.00                                  Registered Nurses   \n",
       "4       53-3032.00            Heavy and Tractor-Trailer Truck Drivers   \n",
       "...            ...                                                ...   \n",
       "671989  41-9022.00                           Real Estate Sales Agents   \n",
       "671990  29-1141.00                                  Registered Nurses   \n",
       "671991  49-2011.00  Computer, Automated Teller, and Office Machine...   \n",
       "671992  53-3031.00                               Driver/Sales Workers   \n",
       "671993  41-2031.00                                Retail Salespersons   \n",
       "\n",
       "       date_posted                                                url  \n",
       "0       2025-01-28  https://www.corpuschristirecruiter.com/other-j...  \n",
       "1       2025-01-28  https://dejobs.org/allentown-pa/hr-generalist/...  \n",
       "2       2025-01-28     https://kpr.craigslist.org/ofc/7822123604.html  \n",
       "3       2025-01-28  https://www.indeed.com/m/viewjob?jk=120fe2d7ef...  \n",
       "4       2025-01-28  https://trilliumstaffing.com/jobs/job/767908-c...  \n",
       "...            ...                                                ...  \n",
       "671989  2025-01-31  https://www.indeed.com/m/viewjob?jk=727992da7a...  \n",
       "671990  2025-01-31  https://www.simplyhired.com/job/Cwtl2k-7dzhjkS...  \n",
       "671991  2025-01-31  https://www.jobserve.com/us/en/extjob/installa...  \n",
       "671992  2025-01-31  https://jobs.papajohns.com/job/18994/delivery-...  \n",
       "671993  2025-01-31  https://levistraussandco.wd5.myworkdayjobs.com...  \n",
       "\n",
       "[671994 rows x 6 columns]"
      ]
     },
     "execution_count": 8,
     "metadata": {},
     "output_type": "execute_result"
    }
   ],
   "source": [
    "job_postings_df"
   ]
  },
  {
   "cell_type": "code",
   "execution_count": null,
   "metadata": {},
   "outputs": [],
   "source": [
    "job_postings_df = job_postings_df.sample(frac=(1/6)).reset_index(drop=True)"
   ]
  },
  {
   "cell_type": "code",
   "execution_count": 9,
   "metadata": {},
   "outputs": [],
   "source": [
    "job_postings_df.to_parquet(os.path.join(streamlit_data_path, 'job_postings.parquet'), engine=\"pyarrow\", compression=\"snappy\")"
   ]
  },
  {
   "cell_type": "code",
   "execution_count": null,
   "metadata": {},
   "outputs": [],
   "source": []
  }
 ],
 "metadata": {
  "kernelspec": {
   "display_name": ".build-project",
   "language": "python",
   "name": "python3"
  },
  "language_info": {
   "codemirror_mode": {
    "name": "ipython",
    "version": 3
   },
   "file_extension": ".py",
   "mimetype": "text/x-python",
   "name": "python",
   "nbconvert_exporter": "python",
   "pygments_lexer": "ipython3",
   "version": "3.12.8"
  }
 },
 "nbformat": 4,
 "nbformat_minor": 2
}
