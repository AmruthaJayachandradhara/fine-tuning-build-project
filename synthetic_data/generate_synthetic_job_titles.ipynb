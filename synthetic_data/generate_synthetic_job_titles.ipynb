{
 "cells": [
  {
   "cell_type": "code",
   "execution_count": 1,
   "metadata": {},
   "outputs": [],
   "source": [
    "import sys\n",
    "import os"
   ]
  },
  {
   "cell_type": "code",
   "execution_count": 2,
   "metadata": {},
   "outputs": [],
   "source": [
    "import pandas as pd\n",
    "import numpy as np"
   ]
  },
  {
   "cell_type": "code",
   "execution_count": 3,
   "metadata": {},
   "outputs": [],
   "source": [
    "# Either hard code your path to the project, or set it as an environment variable\n",
    "# build_project_path = os.environ['BUILD_PROJECT_PATH']\n",
    "build_project_path = '/Users/amruthaj/Documents/GitHub/fine-tuning-build-project'"
   ]
  },
  {
   "cell_type": "code",
   "execution_count": 4,
   "metadata": {},
   "outputs": [],
   "source": [
    "synthetic_data_path = os.path.join(build_project_path, 'synthetic_data')\n",
    "data_path = os.path.join(synthetic_data_path, 'data')"
   ]
  },
  {
   "cell_type": "code",
   "execution_count": 5,
   "metadata": {},
   "outputs": [],
   "source": [
    "if synthetic_data_path not in sys.path:\n",
    "    sys.path.append(synthetic_data_path)"
   ]
  },
  {
   "cell_type": "code",
   "execution_count": 6,
   "metadata": {},
   "outputs": [
    {
     "name": "stderr",
     "output_type": "stream",
     "text": [
      "/Users/amruthaj/Documents/GitHub/fine-tuning-build-project/synthetic_data/llm_requests.py:9: TqdmExperimentalWarning: Using `tqdm.autonotebook.tqdm` in notebook mode. Use `tqdm.tqdm` instead to force console mode (e.g. in jupyter console)\n",
      "  from tqdm.autonotebook import tqdm, trange\n"
     ]
    }
   ],
   "source": [
    "from llm_requests import generate_prompt\n",
    "\n",
    "seed_titles_df = pd.read_csv(os.path.join(data_path, 'seed_titles.csv'))\n",
    "\n",
    "seed_titles = seed_titles_df['seed_title'].unique()\n",
    "\n",
    "example_seed_titles = np.random.choice(seed_titles, 5)\n",
    "\n",
    "example_prompt = generate_prompt(example_seed_titles)"
   ]
  },
  {
   "cell_type": "markdown",
   "metadata": {},
   "source": [
    "<h3>Experiment with different models and see how they compare!</h3>"
   ]
  },
  {
   "cell_type": "code",
   "execution_count": 14,
   "metadata": {},
   "outputs": [],
   "source": [
    "# model_name = 'Meta-Llama-3.3-70B-Instruct'\n",
    "# model_name = 'Meta-Llama-3.1-405B-Instruct'\n",
    "model_name = \"E5-Mistral-7B-Instruct\""
   ]
  },
  {
   "cell_type": "code",
   "execution_count": 15,
   "metadata": {},
   "outputs": [],
   "source": [
    "from llm_requests import get_client\n",
    "\n",
    "client = get_client()"
   ]
  },
  {
   "cell_type": "code",
   "execution_count": 16,
   "metadata": {},
   "outputs": [],
   "source": [
    "from llm_requests import async_make_api_call\n",
    "\n",
    "example_response = await async_make_api_call(client, model_name, example_prompt, perturbation_std=0.1)"
   ]
  },
  {
   "cell_type": "code",
   "execution_count": 10,
   "metadata": {},
   "outputs": [],
   "source": [
    "from gpt_parsing import parse_gpt_response\n",
    "\n",
    "parsed_output = parse_gpt_response(example_response.choices[0].message.content, 5, 5)"
   ]
  },
  {
   "cell_type": "code",
   "execution_count": 11,
   "metadata": {},
   "outputs": [
    {
     "name": "stdout",
     "output_type": "stream",
     "text": [
      "Variations of: Inside Sales Engineer:\n",
      "-------------------\n",
      "1: Inside Sales Engineer - Industrial Automation (Base + Commission)\n",
      "2: Technical Sales Engineer (Inside Sales) - Growing Company\n",
      "3: Inside Sales Application Engineer - Mechanical Products\n",
      "4: Sales Engineer (Inside) - Building Relationships with Key Accounts\n",
      "5: Senior Inside Sales Engineer - Solutions-Focused Role (Remote Option)\n",
      "\n",
      "\n",
      "\n",
      "Variations of: Patient Access Coordinator:\n",
      "-------------------\n",
      "1: Patient Access Coordinator - Admitting Department (Full-Time)\n",
      "2: Patient Access Representative - ER Registration (Night Shift)\n",
      "3: Access Center Coordinator - Patient Scheduling (Call Center)\n",
      "4: Patient Access Coordinator - Pre-Registration and Scheduling\n",
      "5: Admitting Coordinator/Patient Access - Part-Time, Variable Shifts\n",
      "\n",
      "\n",
      "\n",
      "Variations of: Aquaculture Director:\n",
      "-------------------\n",
      "1: Aquaculture Director - Freshwater Fish Farm (International)\n",
      "2: Director of Aquaculture - Shrimp Farming Operation\n",
      "3: Aquaculture Farm Manager/Director - Salmon Production\n",
      "4: Executive Director, Aquaculture Research Institute\n",
      "5: Aquaculture Director - Hatchery and Grow-Out Operations (US-Based)\n",
      "\n",
      "\n",
      "\n",
      "Variations of: Change Person:\n",
      "-------------------\n",
      "1: Change Management Specialist - Organizational Development\n",
      "2: Change Person (Organizational Change Management) - Consultant\n",
      "3: Manager, Change Management - IT Projects (Agile Methodologies)\n",
      "4: Organizational Change Manager - Communications and Training\n",
      "5: Senior Change Consultant - Business Transformation (Remote)\n",
      "\n",
      "\n",
      "\n",
      "Variations of: Advertising Copywriter:\n",
      "-------------------\n",
      "1: Senior Advertising Copywriter - Creative Agency (Digital Focus)\n",
      "2: Advertising Copywriter - TV, Radio, and Print Media\n",
      "3: Copywriter (Advertising) - Social Media and Content Creation\n",
      "4: Junior Copywriter - Entry-Level Position in Ad Agency\n",
      "5: Freelance Advertising Copywriter - Project-Based Work (Flexible)\n",
      "\n",
      "\n",
      "\n"
     ]
    }
   ],
   "source": [
    "for seed_title, response in zip(example_seed_titles, parsed_output):\n",
    "    print(f'Variations of: {seed_title}:')\n",
    "    print('-------------------')\n",
    "    for i, variation in enumerate(response):\n",
    "        print(f'{i+1}: {variation}')\n",
    "\n",
    "    print('\\n\\n')"
   ]
  },
  {
   "cell_type": "code",
   "execution_count": 12,
   "metadata": {},
   "outputs": [
    {
     "data": {
      "application/vnd.jupyter.widget-view+json": {
       "model_id": "a789cbba96bc45be8a1e0f39f580cec9",
       "version_major": 2,
       "version_minor": 0
      },
      "text/plain": [
       "  0%|          | 0/1169 [00:00<?, ?it/s]"
      ]
     },
     "metadata": {},
     "output_type": "display_data"
    }
   ],
   "source": [
    "from llm_requests import async_main_stubborn\n",
    "\n",
    "output_dict_path = os.path.join(data_path, 'jitter_responses.pkl')\n",
    "response_dict = await async_main_stubborn(\n",
    "    all_query_titles=seed_titles,\n",
    "    client=client,\n",
    "    model_name=model_name,\n",
    "    output_path=output_dict_path,\n",
    "    chunk_size=5,\n",
    "    num_examples_per_title=5,\n",
    "    giveup_after=1,\n",
    ")"
   ]
  },
  {
   "cell_type": "code",
   "execution_count": 13,
   "metadata": {},
   "outputs": [],
   "source": [
    "import pickle\n",
    "\n",
    "output_dict_path = os.path.join(data_path, 'jitter_responses.pkl')\n",
    "\n",
    "with open(output_dict_path, 'rb') as f:\n",
    "    response_dict = pickle.load(f)"
   ]
  },
  {
   "cell_type": "code",
   "execution_count": 14,
   "metadata": {},
   "outputs": [
    {
     "data": {
      "text/html": [
       "<div>\n",
       "<style scoped>\n",
       "    .dataframe tbody tr th:only-of-type {\n",
       "        vertical-align: middle;\n",
       "    }\n",
       "\n",
       "    .dataframe tbody tr th {\n",
       "        vertical-align: top;\n",
       "    }\n",
       "\n",
       "    .dataframe thead th {\n",
       "        text-align: right;\n",
       "    }\n",
       "</style>\n",
       "<table border=\"1\" class=\"dataframe\">\n",
       "  <thead>\n",
       "    <tr style=\"text-align: right;\">\n",
       "      <th></th>\n",
       "      <th>jittered_title</th>\n",
       "      <th>seed_title</th>\n",
       "      <th>onet_code</th>\n",
       "      <th>onet_name</th>\n",
       "    </tr>\n",
       "  </thead>\n",
       "  <tbody>\n",
       "    <tr>\n",
       "      <th>14763</th>\n",
       "      <td>Elementary Kindergarten Teacher - Title One Pr...</td>\n",
       "      <td>Title One Kindergarten Teacher</td>\n",
       "      <td>25-2012.00</td>\n",
       "      <td>Kindergarten Teachers, Except Special Education</td>\n",
       "    </tr>\n",
       "    <tr>\n",
       "      <th>7655</th>\n",
       "      <td>Lab Technician (Lab Tech) - Microbiology - 2nd...</td>\n",
       "      <td>Lab Technician (Lab Tech)</td>\n",
       "      <td>19-4099.01</td>\n",
       "      <td>Quality Control Analysts</td>\n",
       "    </tr>\n",
       "    <tr>\n",
       "      <th>15120</th>\n",
       "      <td>Network Security Analyst - Incident Response &amp;...</td>\n",
       "      <td>Network Security Analyst</td>\n",
       "      <td>15-1212.00</td>\n",
       "      <td>Information Security Analysts</td>\n",
       "    </tr>\n",
       "    <tr>\n",
       "      <th>21464</th>\n",
       "      <td>Certified Sports Official - Multiple Sports - ...</td>\n",
       "      <td>Sports Official</td>\n",
       "      <td>27-2023.00</td>\n",
       "      <td>Umpires, Referees, and Other Sports Officials</td>\n",
       "    </tr>\n",
       "    <tr>\n",
       "      <th>118</th>\n",
       "      <td>Cocktail Server Wanted - Tips, Fun Work Enviro...</td>\n",
       "      <td>Cocktail Server</td>\n",
       "      <td>35-3031.00</td>\n",
       "      <td>Waiters and Waitresses</td>\n",
       "    </tr>\n",
       "  </tbody>\n",
       "</table>\n",
       "</div>"
      ],
      "text/plain": [
       "                                          jittered_title  \\\n",
       "14763  Elementary Kindergarten Teacher - Title One Pr...   \n",
       "7655   Lab Technician (Lab Tech) - Microbiology - 2nd...   \n",
       "15120  Network Security Analyst - Incident Response &...   \n",
       "21464  Certified Sports Official - Multiple Sports - ...   \n",
       "118    Cocktail Server Wanted - Tips, Fun Work Enviro...   \n",
       "\n",
       "                           seed_title   onet_code  \\\n",
       "14763  Title One Kindergarten Teacher  25-2012.00   \n",
       "7655        Lab Technician (Lab Tech)  19-4099.01   \n",
       "15120        Network Security Analyst  15-1212.00   \n",
       "21464                 Sports Official  27-2023.00   \n",
       "118                   Cocktail Server  35-3031.00   \n",
       "\n",
       "                                             onet_name  \n",
       "14763  Kindergarten Teachers, Except Special Education  \n",
       "7655                          Quality Control Analysts  \n",
       "15120                    Information Security Analysts  \n",
       "21464    Umpires, Referees, and Other Sports Officials  \n",
       "118                             Waiters and Waitresses  "
      ]
     },
     "execution_count": 14,
     "metadata": {},
     "output_type": "execute_result"
    }
   ],
   "source": [
    "jitter_df = {\n",
    "    'jittered_title': [],\n",
    "    'seed_title': [],\n",
    "}\n",
    "\n",
    "for seed_title, jittered_titles in response_dict.items():\n",
    "    for jittered_title in jittered_titles:\n",
    "        jitter_df['jittered_title'].append(jittered_title)\n",
    "        jitter_df['seed_title'].append(seed_title)\n",
    "\n",
    "jitter_df = pd.DataFrame(jitter_df)\n",
    "\n",
    "jitter_df = jitter_df.merge(seed_titles_df, on='seed_title', how='left')\n",
    "jitter_df.sample(5)"
   ]
  },
  {
   "cell_type": "code",
   "execution_count": 15,
   "metadata": {},
   "outputs": [],
   "source": [
    "jitter_df.to_csv(os.path.join(data_path, 'jittered_titles.csv'), index=False)"
   ]
  },
  {
   "cell_type": "code",
   "execution_count": null,
   "metadata": {},
   "outputs": [],
   "source": []
  }
 ],
 "metadata": {
  "kernelspec": {
   "display_name": "venv",
   "language": "python",
   "name": "python3"
  },
  "language_info": {
   "codemirror_mode": {
    "name": "ipython",
    "version": 3
   },
   "file_extension": ".py",
   "mimetype": "text/x-python",
   "name": "python",
   "nbconvert_exporter": "python",
   "pygments_lexer": "ipython3",
   "version": "3.12.2"
  }
 },
 "nbformat": 4,
 "nbformat_minor": 2
}
