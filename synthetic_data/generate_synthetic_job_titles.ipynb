{
 "cells": [
  {
   "cell_type": "code",
   "execution_count": 9,
   "metadata": {},
   "outputs": [],
   "source": [
    "import sys\n",
    "import os"
   ]
  },
  {
   "cell_type": "code",
   "execution_count": 10,
   "metadata": {},
   "outputs": [],
   "source": [
    "import pandas as pd\n",
    "import numpy as np"
   ]
  },
  {
   "cell_type": "code",
   "execution_count": 11,
   "metadata": {},
   "outputs": [],
   "source": [
    "# Either hard code your path to the project, or set it as an environment variable\n",
    "# build_project_path = os.environ['BUILD_PROJECT_PATH']\n",
    "build_project_path = '/Users/amruthaj/Documents/GitHub/fine-tuning-build-project'"
   ]
  },
  {
   "cell_type": "code",
   "execution_count": 12,
   "metadata": {},
   "outputs": [],
   "source": [
    "synthetic_data_path = os.path.join(build_project_path, 'synthetic_data')\n",
    "data_path = os.path.join(synthetic_data_path, 'data')"
   ]
  },
  {
   "cell_type": "code",
   "execution_count": 13,
   "metadata": {},
   "outputs": [],
   "source": [
    "if synthetic_data_path not in sys.path:\n",
    "    sys.path.append(synthetic_data_path)"
   ]
  },
  {
   "cell_type": "code",
   "execution_count": 14,
   "metadata": {},
   "outputs": [],
   "source": [
    "from llm_requests import generate_prompt\n",
    "\n",
    "seed_titles_df = pd.read_csv(os.path.join(data_path, 'seed_titles.csv'))\n",
    "\n",
    "seed_titles = seed_titles_df['seed_title'].unique()\n",
    "\n",
    "example_seed_titles = np.random.choice(seed_titles, 5)\n",
    "\n",
    "example_prompt = generate_prompt(example_seed_titles)"
   ]
  },
  {
   "cell_type": "markdown",
   "metadata": {},
   "source": [
    "<h3>Experiment with different models and see how they compare!</h3>"
   ]
  },
  {
   "cell_type": "code",
   "execution_count": 15,
   "metadata": {},
   "outputs": [],
   "source": [
    "model_name = 'Meta-Llama-3.3-70B-Instruct'\n",
    "# model_name = 'Meta-Llama-3.1-405B-Instruct'\n",
    "# model_name = \"E5-Mistral-7B-Instruct\""
   ]
  },
  {
   "cell_type": "code",
   "execution_count": 16,
   "metadata": {},
   "outputs": [],
   "source": [
    "from llm_requests import get_client\n",
    "\n",
    "client = get_client()"
   ]
  },
  {
   "cell_type": "code",
   "execution_count": 17,
   "metadata": {},
   "outputs": [],
   "source": [
    "from llm_requests import async_make_api_call\n",
    "\n",
    "example_response = await async_make_api_call(client, model_name, example_prompt, perturbation_std=0.1)"
   ]
  },
  {
   "cell_type": "code",
   "execution_count": 18,
   "metadata": {},
   "outputs": [],
   "source": [
    "from gpt_parsing import parse_gpt_response\n",
    "\n",
    "parsed_output = parse_gpt_response(example_response.choices[0].message.content, 5, 5)"
   ]
  },
  {
   "cell_type": "code",
   "execution_count": 19,
   "metadata": {},
   "outputs": [
    {
     "name": "stdout",
     "output_type": "stream",
     "text": [
      "Variations of: Solar System Installer:\n",
      "-------------------\n",
      "1: Renewable Energy Solar System Installer - Residential & Commercial\n",
      "2: Solar Panel Installation Technician - Travel Opportunities\n",
      "3: Lead Solar Installer - Crew Management Experience Required\n",
      "4: Solar System Installer (NABCEP Certification a Plus) - Full-Time\n",
      "5: PV Solar System Installer - Electrical Experience Preferred\n",
      "\n",
      "\n",
      "\n",
      "Variations of: Spray Technician:\n",
      "-------------------\n",
      "1: Industrial Spray Technician - 2nd Shift - Competitive Pay & Benefits\n",
      "2: Spray Technician - Coatings Specialist - Automotive Industry\n",
      "3: Aerospace Spray Technician - Secret Clearance Required\n",
      "4: Spray Technician Wanted - Paint & Coatings Experience Necessary\n",
      "5: Experienced Spray Technician - Custom Fabrication Shop\n",
      "\n",
      "\n",
      "\n",
      "Variations of: Geology Professor:\n",
      "-------------------\n",
      "1: Tenure Track Geology Professor - Sedimentary Petrology Specialty\n",
      "2: Geology Professor (Part-Time) - Teach Introductory Courses\n",
      "3: Associate Professor of Geology - Structural Geology & Tectonics\n",
      "4: Professor of Geology - Department Chair Opportunity\n",
      "5: Visiting Geology Professor - Summer Term Contract\n",
      "\n",
      "\n",
      "\n",
      "Variations of: HVAC Installer (Heating, Ventilation, and Air Conditioning Installer):\n",
      "-------------------\n",
      "1: Commercial HVAC Installer - Large Scale Projects - Top Pay\n",
      "2: Residential HVAC Installer - Service Technician Experience a Plus\n",
      "3: HVAC Installation Technician - EPA Certification Required\n",
      "4: Lead HVAC Installer - Crew Management & Training Responsibilities\n",
      "5: HVAC Installer/Mechanic - Preventative Maintenance Focus\n",
      "\n",
      "\n",
      "\n",
      "Variations of: Court Reporter:\n",
      "-------------------\n",
      "1: Official Court Reporter - Freelance Opportunities Available\n",
      "2: Realtime Court Reporter - Deposition Experience Necessary\n",
      "3: Digital Court Reporter - Audio & Video Recording Specialist\n",
      "4: Court Reporter (Part-Time) - Evening & Weekend Hearings\n",
      "5: Experienced Court Reporter - Trial & Deposition Services\n",
      "\n",
      "\n",
      "\n"
     ]
    }
   ],
   "source": [
    "for seed_title, response in zip(example_seed_titles, parsed_output):\n",
    "    print(f'Variations of: {seed_title}:')\n",
    "    print('-------------------')\n",
    "    for i, variation in enumerate(response):\n",
    "        print(f'{i+1}: {variation}')\n",
    "\n",
    "    print('\\n\\n')"
   ]
  },
  {
   "cell_type": "code",
   "execution_count": 21,
   "metadata": {},
   "outputs": [
    {
     "data": {
      "application/vnd.jupyter.widget-view+json": {
       "model_id": "b884711088a0434382596eab056ed6e3",
       "version_major": 2,
       "version_minor": 0
      },
      "text/plain": [
       "  0%|          | 0/1169 [00:00<?, ?it/s]"
      ]
     },
     "metadata": {},
     "output_type": "display_data"
    }
   ],
   "source": [
    "from llm_requests import async_main_stubborn\n",
    "\n",
    "output_dict_path = os.path.join(data_path, 'jitter_responses.pkl')\n",
    "response_dict = await async_main_stubborn(\n",
    "    all_query_titles=seed_titles,\n",
    "    client=client,\n",
    "    model_name=model_name,\n",
    "    output_path=output_dict_path,\n",
    "    chunk_size=5,\n",
    "    num_examples_per_title=5,\n",
    "    giveup_after=1,\n",
    ")"
   ]
  },
  {
   "cell_type": "code",
   "execution_count": 33,
   "metadata": {},
   "outputs": [],
   "source": [
    "import pickle\n",
    "\n",
    "output_dict_path = os.path.join(data_path, 'jitter_responses.pkl')\n",
    "\n",
    "with open(output_dict_path, 'rb') as f:\n",
    "    response_dict = pickle.load(f)"
   ]
  },
  {
   "cell_type": "code",
   "execution_count": 34,
   "metadata": {},
   "outputs": [
    {
     "data": {
      "text/html": [
       "<div>\n",
       "<style scoped>\n",
       "    .dataframe tbody tr th:only-of-type {\n",
       "        vertical-align: middle;\n",
       "    }\n",
       "\n",
       "    .dataframe tbody tr th {\n",
       "        vertical-align: top;\n",
       "    }\n",
       "\n",
       "    .dataframe thead th {\n",
       "        text-align: right;\n",
       "    }\n",
       "</style>\n",
       "<table border=\"1\" class=\"dataframe\">\n",
       "  <thead>\n",
       "    <tr style=\"text-align: right;\">\n",
       "      <th></th>\n",
       "      <th>jittered_title</th>\n",
       "      <th>seed_title</th>\n",
       "      <th>onet_code</th>\n",
       "      <th>onet_name</th>\n",
       "    </tr>\n",
       "  </thead>\n",
       "  <tbody>\n",
       "    <tr>\n",
       "      <th>107</th>\n",
       "      <td>Bindery Worker Wanted - Finishing Department (...</td>\n",
       "      <td>Bindery Worker</td>\n",
       "      <td>51-5113.00</td>\n",
       "      <td>Print Binding and Finishing Workers</td>\n",
       "    </tr>\n",
       "    <tr>\n",
       "      <th>12062</th>\n",
       "      <td>Industrial Energy Engineer - Renewable Energy ...</td>\n",
       "      <td>Industrial Energy Engineer</td>\n",
       "      <td>17-2199.03</td>\n",
       "      <td>Energy Engineers, Except Wind and Solar</td>\n",
       "    </tr>\n",
       "    <tr>\n",
       "      <th>14775</th>\n",
       "      <td>Senior Aerial Photogrammetrist - UAS (Drone) E...</td>\n",
       "      <td>Aerial Photogrammetrist</td>\n",
       "      <td>17-1021.00</td>\n",
       "      <td>Cartographers and Photogrammetrists</td>\n",
       "    </tr>\n",
       "    <tr>\n",
       "      <th>9159</th>\n",
       "      <td>Bilingual Typist - Translation Project (Short-...</td>\n",
       "      <td>Typist</td>\n",
       "      <td>43-9022.00</td>\n",
       "      <td>Word Processors and Typists</td>\n",
       "    </tr>\n",
       "    <tr>\n",
       "      <th>15654</th>\n",
       "      <td>OR Sterile Technician - Travel Opportunity, 13...</td>\n",
       "      <td>Sterile Technician</td>\n",
       "      <td>31-9093.00</td>\n",
       "      <td>Medical Equipment Preparers</td>\n",
       "    </tr>\n",
       "  </tbody>\n",
       "</table>\n",
       "</div>"
      ],
      "text/plain": [
       "                                          jittered_title  \\\n",
       "107    Bindery Worker Wanted - Finishing Department (...   \n",
       "12062  Industrial Energy Engineer - Renewable Energy ...   \n",
       "14775  Senior Aerial Photogrammetrist - UAS (Drone) E...   \n",
       "9159   Bilingual Typist - Translation Project (Short-...   \n",
       "15654  OR Sterile Technician - Travel Opportunity, 13...   \n",
       "\n",
       "                       seed_title   onet_code  \\\n",
       "107                Bindery Worker  51-5113.00   \n",
       "12062  Industrial Energy Engineer  17-2199.03   \n",
       "14775     Aerial Photogrammetrist  17-1021.00   \n",
       "9159                       Typist  43-9022.00   \n",
       "15654          Sterile Technician  31-9093.00   \n",
       "\n",
       "                                     onet_name  \n",
       "107        Print Binding and Finishing Workers  \n",
       "12062  Energy Engineers, Except Wind and Solar  \n",
       "14775      Cartographers and Photogrammetrists  \n",
       "9159               Word Processors and Typists  \n",
       "15654              Medical Equipment Preparers  "
      ]
     },
     "execution_count": 34,
     "metadata": {},
     "output_type": "execute_result"
    }
   ],
   "source": [
    "jitter_df = {\n",
    "    'jittered_title': [],\n",
    "    'seed_title': [],\n",
    "}\n",
    "\n",
    "for seed_title, jittered_titles in response_dict.items():\n",
    "    for jittered_title in jittered_titles:\n",
    "        jitter_df['jittered_title'].append(jittered_title)\n",
    "        jitter_df['seed_title'].append(seed_title)\n",
    "\n",
    "jitter_df = pd.DataFrame(jitter_df)\n",
    "\n",
    "jitter_df = jitter_df.merge(seed_titles_df, on='seed_title', how='left')\n",
    "jitter_df.sample(5)"
   ]
  },
  {
   "cell_type": "code",
   "execution_count": 15,
   "metadata": {},
   "outputs": [],
   "source": [
    "jitter_df.to_csv(os.path.join(data_path, 'jittered_titles.csv'), index=False)"
   ]
  },
  {
   "cell_type": "code",
   "execution_count": null,
   "metadata": {},
   "outputs": [],
   "source": []
  }
 ],
 "metadata": {
  "kernelspec": {
   "display_name": "venv",
   "language": "python",
   "name": "python3"
  },
  "language_info": {
   "codemirror_mode": {
    "name": "ipython",
    "version": 3
   },
   "file_extension": ".py",
   "mimetype": "text/x-python",
   "name": "python",
   "nbconvert_exporter": "python",
   "pygments_lexer": "ipython3",
   "version": "3.12.2"
  }
 },
 "nbformat": 4,
 "nbformat_minor": 2
}
