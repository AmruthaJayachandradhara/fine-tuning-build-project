{
 "cells": [
  {
   "cell_type": "code",
   "execution_count": 1,
   "metadata": {},
   "outputs": [],
   "source": [
    "import sys\n",
    "import os"
   ]
  },
  {
   "cell_type": "code",
   "execution_count": 2,
   "metadata": {},
   "outputs": [],
   "source": [
    "import pandas as pd\n",
    "import numpy as np"
   ]
  },
  {
   "cell_type": "code",
   "execution_count": 3,
   "metadata": {},
   "outputs": [],
   "source": [
    "build_project_path = os.environ['BUILD_PROJECT_PATH']"
   ]
  },
  {
   "cell_type": "code",
   "execution_count": 4,
   "metadata": {},
   "outputs": [],
   "source": [
    "synthetic_data_path = os.path.join(build_project_path, 'synthetic_data')\n",
    "data_path = os.path.join(synthetic_data_path, 'data')"
   ]
  },
  {
   "cell_type": "code",
   "execution_count": 5,
   "metadata": {},
   "outputs": [],
   "source": [
    "if synthetic_data_path not in sys.path:\n",
    "    sys.path.append(synthetic_data_path)"
   ]
  },
  {
   "cell_type": "code",
   "execution_count": 6,
   "metadata": {},
   "outputs": [
    {
     "name": "stderr",
     "output_type": "stream",
     "text": [
      "/home/jamesa261/fine-tuning-build-project/synthetic_data/llm_requests.py:8: TqdmExperimentalWarning: Using `tqdm.autonotebook.tqdm` in notebook mode. Use `tqdm.tqdm` instead to force console mode (e.g. in jupyter console)\n",
      "  from tqdm.autonotebook import tqdm\n"
     ]
    }
   ],
   "source": [
    "from llm_requests import generate_prompt\n",
    "\n",
    "jitter_df = pd.read_csv(os.path.join(data_path, 'jitter_ds.csv'))\n",
    "\n",
    "seed_titles = jitter_df['clean_title'].unique()\n",
    "\n",
    "example_seed_titles = np.random.choice(seed_titles, 5)\n",
    "\n",
    "example_prompt = generate_prompt(example_seed_titles)"
   ]
  },
  {
   "cell_type": "code",
   "execution_count": 19,
   "metadata": {},
   "outputs": [],
   "source": [
    "model_name = 'Meta-Llama-3.3-70B-Instruct'\n",
    "# model_name = 'Meta-Llama-3.1-70B-Instruct'"
   ]
  },
  {
   "cell_type": "code",
   "execution_count": 20,
   "metadata": {},
   "outputs": [],
   "source": [
    "from llm_requests import get_client\n",
    "\n",
    "client = get_client()"
   ]
  },
  {
   "cell_type": "code",
   "execution_count": 21,
   "metadata": {},
   "outputs": [],
   "source": [
    "from llm_requests import async_make_api_call\n",
    "\n",
    "example_response = await async_make_api_call(client, model_name, example_prompt, perturbation_std=0.1)"
   ]
  },
  {
   "cell_type": "code",
   "execution_count": 22,
   "metadata": {},
   "outputs": [
    {
     "name": "stdout",
     "output_type": "stream",
     "text": [
      "<response>\n",
      "1. [`Ranch Hand - Cattle Operation (Live-In Position)`, `Seasonal Ranch Hand Needed - Horse Farm in Montana`, `Ranch Hand / Farm Laborer - Full-Time, Year-Round`, `Entry-Level Ranch Hand Opportunity - Training Provided`, `Experienced Ranch Hand Wanted - Large Ranch in Texas`]\n",
      "2. [`Senior Public Health Epidemiologist - Infectious Disease`, `Public Health Epidemiologist (Part-Time) - COVID-19 Response`, `Epidemiologist - Public Health (Temporary Position)`, `Public Health Epidemiologist - Maternal & Child Health`, `Public Health Epidemiologist - Global Health Initiative (Remote)`]\n",
      "3. [`Speech and Language Specialist - Pediatric Clinic (Full-Time)`, `Speech-Language Pathologist (SLP) - School Setting`, `Bilingual Speech and Language Specialist - Early Intervention`, `Speech and Language Specialist - Rehabilitation Hospital`, `Lead Speech and Language Specialist - Autism Center`]\n",
      "4. [`Technical Illustrator - 3D Modeling & Animation (Contract)`, `Senior Technical Illustrator - Aerospace Industry`, `Technical Illustrator / Graphic Designer - Marketing Team`, `Technical Illustrator Wanted - Scientific Publishing Company`, `Junior Technical Illustrator - CAD Design & Documentation`]\n",
      "5. [`Steel Worker - Structural Steel Fabricator (2nd Shift)`, `Experienced Steel Worker Needed - Construction Site`, `Steel Worker / Ironworker - Bridge Construction Project`, `Entry-Level Steel Worker Opportunity - Training Program`, `Steel Worker - Shipbuilding Industry (Welding Experience Required)`]\n",
      "</response>\n"
     ]
    }
   ],
   "source": [
    "print(example_response.choices[0].message.content)"
   ]
  },
  {
   "cell_type": "code",
   "execution_count": null,
   "metadata": {},
   "outputs": [],
   "source": []
  }
 ],
 "metadata": {
  "kernelspec": {
   "display_name": "build-project",
   "language": "python",
   "name": "python3"
  },
  "language_info": {
   "codemirror_mode": {
    "name": "ipython",
    "version": 3
   },
   "file_extension": ".py",
   "mimetype": "text/x-python",
   "name": "python",
   "nbconvert_exporter": "python",
   "pygments_lexer": "ipython3",
   "version": "3.12.8"
  }
 },
 "nbformat": 4,
 "nbformat_minor": 2
}
